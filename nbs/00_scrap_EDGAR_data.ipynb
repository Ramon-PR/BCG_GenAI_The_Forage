{
 "cells": [
  {
   "cell_type": "markdown",
   "metadata": {},
   "source": [
    "# Get Financial data for data analysis\n",
    "\n",
    "> Get Financial data from the SEC's EDGAR database, analyse and save for later use \n"
   ]
  },
  {
   "cell_type": "markdown",
   "metadata": {},
   "source": [
    "[Scrapping EDGAR data](https://vincent.codes.finance/posts/edgartools/#:~:text=In%20this%20tutorial%2C%20I%20will%20show%20you%20how,also%20available%20as%20a%20video%20tutorial%20on%20YouTube)"
   ]
  },
  {
   "cell_type": "markdown",
   "metadata": {},
   "source": [
    "***\n",
    "# Task instructions\n",
    "\n",
    "Your task is to manually extract key financial data for the last three fiscal years from the 10-K filings of Microsoft, Tesla, and Apple. Following the data collection, you will use Python to analyze this data, focusing on trends and insights that could inform the development of an AI-powered financial chatbot.\n",
    "\n",
    "## Step 1: Data extraction\n",
    "\n",
    "### Navigate to the SEC's EDGAR database:\n",
    "\n",
    "+    Microsoft  \n",
    "+    Tesla  \n",
    "+    Apple  \n",
    "\n",
    "### Manual extraction:\n",
    "\n",
    "+ For each company, find the 10-K filings for the last three fiscal years.  \n",
    "+ Extract the following financial figures: Total Revenue, Net Income, Total Assets, Total Liabilities, and Cash Flow from Operating Activities.\n",
    "\n",
    "### Organize Your Data:\n",
    "\n",
    "+ Compile the extracted data into an Excel spreadsheet for easy reference during your Python analysis.\n",
    "\n",
    "## Step 2: Preparing your Jupyter Notebook environment\n",
    "\n",
    "Install Jupyter (if not already installed):\n",
    "\n",
    "Install Jupyter using pip if you haven't already:\n",
    "> pip install notebook\n",
    "\n",
    "+ Launch Jupyter Notebook:\n",
    "> jupyter notebook\n",
    "\n",
    "+ This command should open Jupyter in your web browser.\n",
    "\n",
    "### Create a new notebook:\n",
    "\n",
    "In the Jupyter interface, create a new notebook for your analysis.\n",
    "\n",
    "## Step 3: Python analysis in Jupyter\n",
    "\n",
    "### Import pandas:\n",
    "\n",
    "At the beginning of your notebook, import the pandas library to work with your data.\n",
    "> import pandas as pd\n",
    "\n",
    "### Load your data:\n",
    "\n",
    "+ Convert your Excel file to a CSV file for easier handling, then load it into a DataFrame.\n",
    "> df = pd.read_csv('path_to_your_csv_file.csv')\n",
    "\n",
    "### Analyzing trends with pandas:\n",
    "\n",
    "+ Use pandas to calculate year-over-year changes for each financial metric. You can do this by creating new columns in your DataFrame that represent the percentage change from one year to the next.\n",
    "\n",
    "> df['Revenue Growth (%)'] = df.groupby(['Company'])['Total Revenue'].pct_change() * 100\n",
    "> df['Net Income Growth (%)'] = df.groupby(['Company'])['Net Income'].pct_change() * 100\n",
    "\n",
    "+ Explore other aggregate functions or groupings to analyze the data across different dimensions (by company, over years, etc.).\n",
    "\n",
    "### Summarizing findings:\n",
    "\n",
    "+ Conclude your analysis by summarizing your findings directly in the notebook. Use markdown cells to add narrative explanations of your analysis, discussing the trends and changes in financial metrics you've identified.\n",
    "\n",
    "## Step 4: Documentation and submission\n",
    "+ Document your analysis: Use the markdown feature in Jupyter Notebook to document your methodology, observations, and conclusions throughout the notebook.\n",
    "\n",
    "+ Export your notebook: Once your analysis is complete, export your Jupyter Notebook as a PDF or HTML file for submission.\n",
    "\n",
    "    - You can do this from the \"File\" menu in Jupyter, selecting \"Download as\" and then choosing your preferred format.\n",
    "\n",
    "This approach allows you to focus on the core analytical aspects using pandas within a Jupyter Notebook, providing a clear, documented narrative of your financial analysis process. By the end of this task, you'll have a comprehensive understanding of how to analyze financial data programmatically, a valuable skill set for data-driven decision-making."
   ]
  },
  {
   "cell_type": "markdown",
   "metadata": {},
   "source": [
    "***"
   ]
  },
  {
   "cell_type": "code",
   "execution_count": null,
   "metadata": {},
   "outputs": [],
   "source": []
  },
  {
   "cell_type": "code",
   "execution_count": null,
   "metadata": {},
   "outputs": [],
   "source": []
  }
 ],
 "metadata": {
  "kernelspec": {
   "display_name": "pl",
   "language": "python",
   "name": "python3"
  },
  "language_info": {
   "name": "python",
   "version": "3.13.5"
  }
 },
 "nbformat": 4,
 "nbformat_minor": 4
}
