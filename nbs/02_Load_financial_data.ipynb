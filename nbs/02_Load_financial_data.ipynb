{
 "cells": [
  {
   "cell_type": "code",
   "execution_count": null,
   "id": "65a6d70f",
   "metadata": {},
   "outputs": [],
   "source": [
    "%load_ext autoreload\n",
    "%autoreload 2"
   ]
  },
  {
   "cell_type": "code",
   "execution_count": null,
   "id": "3ccd9a92",
   "metadata": {},
   "outputs": [],
   "source": [
    "#| default_exp tools"
   ]
  },
  {
   "cell_type": "code",
   "execution_count": null,
   "id": "6637b125",
   "metadata": {},
   "outputs": [],
   "source": [
    "#| export\n",
    "\n",
    "import pandas as pd\n",
    "import os\n",
    "from pathlib import Path"
   ]
  },
  {
   "cell_type": "markdown",
   "id": "2b8654ec",
   "metadata": {},
   "source": [
    "# Load data / Manually input the data"
   ]
  },
  {
   "cell_type": "code",
   "execution_count": null,
   "id": "60460f0d",
   "metadata": {},
   "outputs": [],
   "source": [
    "path_to_data = Path(\"../resources\")"
   ]
  },
  {
   "cell_type": "markdown",
   "id": "67bfd2a9",
   "metadata": {},
   "source": [
    "Creation of the csv file"
   ]
  },
  {
   "cell_type": "code",
   "execution_count": null,
   "id": "a9955435",
   "metadata": {},
   "outputs": [],
   "source": [
    "# columns = [\"Company\", \"Year\",\n",
    "#             \"Total Revenue\", \"Net Income\", \n",
    "#             \"Total Assets\", \"Total Liabilities\", \n",
    "#             \"Cash Flow from Operations\"]\n",
    "# df = pd.DataFrame(columns=columns)\n",
    "# df.to_csv(path_to_data/\"financial_data.csv\", index=False)\n"
   ]
  },
  {
   "cell_type": "markdown",
   "id": "616cff7d",
   "metadata": {},
   "source": [
    "Import csv into pandas"
   ]
  },
  {
   "cell_type": "code",
   "execution_count": null,
   "id": "9d0fe949",
   "metadata": {},
   "outputs": [
    {
     "data": {
      "application/vnd.microsoft.datawrangler.viewer.v0+json": {
       "columns": [
        {
         "name": "index",
         "rawType": "int64",
         "type": "integer"
        },
        {
         "name": "Company",
         "rawType": "object",
         "type": "string"
        },
        {
         "name": "Year",
         "rawType": "int64",
         "type": "integer"
        },
        {
         "name": "Total Revenue",
         "rawType": "int64",
         "type": "integer"
        },
        {
         "name": "Net Income",
         "rawType": "int64",
         "type": "integer"
        },
        {
         "name": "Total Assets",
         "rawType": "int64",
         "type": "integer"
        },
        {
         "name": "Total Liabilities",
         "rawType": "int64",
         "type": "integer"
        },
        {
         "name": "Cash Flow from Operations",
         "rawType": "int64",
         "type": "integer"
        }
       ],
       "ref": "81428ffe-8a30-4aad-bf6a-f463434ee860",
       "rows": [
        [
         "0",
         "Microsoft",
         "2025",
         "281724",
         "101832",
         "619003",
         "275524",
         "136162"
        ],
        [
         "1",
         "Microsoft",
         "2024",
         "245122",
         "88136",
         "512163",
         "243686",
         "118548"
        ],
        [
         "2",
         "Microsoft",
         "2023",
         "211915",
         "72361",
         "411976",
         "205753",
         "87582"
        ],
        [
         "3",
         "Apple",
         "2024",
         "391035",
         "93736",
         "364980",
         "308030",
         "118254"
        ],
        [
         "4",
         "Apple",
         "2023",
         "383285",
         "96995",
         "352583",
         "290437",
         "110543"
        ]
       ],
       "shape": {
        "columns": 7,
        "rows": 5
       }
      },
      "text/html": [
       "<div>\n",
       "<style scoped>\n",
       "    .dataframe tbody tr th:only-of-type {\n",
       "        vertical-align: middle;\n",
       "    }\n",
       "\n",
       "    .dataframe tbody tr th {\n",
       "        vertical-align: top;\n",
       "    }\n",
       "\n",
       "    .dataframe thead th {\n",
       "        text-align: right;\n",
       "    }\n",
       "</style>\n",
       "<table border=\"1\" class=\"dataframe\">\n",
       "  <thead>\n",
       "    <tr style=\"text-align: right;\">\n",
       "      <th></th>\n",
       "      <th>Company</th>\n",
       "      <th>Year</th>\n",
       "      <th>Total Revenue</th>\n",
       "      <th>Net Income</th>\n",
       "      <th>Total Assets</th>\n",
       "      <th>Total Liabilities</th>\n",
       "      <th>Cash Flow from Operations</th>\n",
       "    </tr>\n",
       "  </thead>\n",
       "  <tbody>\n",
       "    <tr>\n",
       "      <th>0</th>\n",
       "      <td>Microsoft</td>\n",
       "      <td>2025</td>\n",
       "      <td>281724</td>\n",
       "      <td>101832</td>\n",
       "      <td>619003</td>\n",
       "      <td>275524</td>\n",
       "      <td>136162</td>\n",
       "    </tr>\n",
       "    <tr>\n",
       "      <th>1</th>\n",
       "      <td>Microsoft</td>\n",
       "      <td>2024</td>\n",
       "      <td>245122</td>\n",
       "      <td>88136</td>\n",
       "      <td>512163</td>\n",
       "      <td>243686</td>\n",
       "      <td>118548</td>\n",
       "    </tr>\n",
       "    <tr>\n",
       "      <th>2</th>\n",
       "      <td>Microsoft</td>\n",
       "      <td>2023</td>\n",
       "      <td>211915</td>\n",
       "      <td>72361</td>\n",
       "      <td>411976</td>\n",
       "      <td>205753</td>\n",
       "      <td>87582</td>\n",
       "    </tr>\n",
       "    <tr>\n",
       "      <th>3</th>\n",
       "      <td>Apple</td>\n",
       "      <td>2024</td>\n",
       "      <td>391035</td>\n",
       "      <td>93736</td>\n",
       "      <td>364980</td>\n",
       "      <td>308030</td>\n",
       "      <td>118254</td>\n",
       "    </tr>\n",
       "    <tr>\n",
       "      <th>4</th>\n",
       "      <td>Apple</td>\n",
       "      <td>2023</td>\n",
       "      <td>383285</td>\n",
       "      <td>96995</td>\n",
       "      <td>352583</td>\n",
       "      <td>290437</td>\n",
       "      <td>110543</td>\n",
       "    </tr>\n",
       "  </tbody>\n",
       "</table>\n",
       "</div>"
      ],
      "text/plain": [
       "     Company  Year  Total Revenue  Net Income  Total Assets  \\\n",
       "0  Microsoft  2025         281724      101832        619003   \n",
       "1  Microsoft  2024         245122       88136        512163   \n",
       "2  Microsoft  2023         211915       72361        411976   \n",
       "3      Apple  2024         391035       93736        364980   \n",
       "4      Apple  2023         383285       96995        352583   \n",
       "\n",
       "   Total Liabilities  Cash Flow from Operations  \n",
       "0             275524                     136162  \n",
       "1             243686                     118548  \n",
       "2             205753                      87582  \n",
       "3             308030                     118254  \n",
       "4             290437                     110543  "
      ]
     },
     "execution_count": null,
     "metadata": {},
     "output_type": "execute_result"
    }
   ],
   "source": [
    "file=path_to_data/\"financial_data.csv\"\n",
    "df = pd.read_csv(file)\n",
    "df.head()"
   ]
  },
  {
   "cell_type": "markdown",
   "id": "94f7bf38",
   "metadata": {},
   "source": [
    "# Data preparation"
   ]
  },
  {
   "cell_type": "markdown",
   "id": "106c60a4",
   "metadata": {},
   "source": [
    "## Percentage of change of each financial fact"
   ]
  },
  {
   "cell_type": "markdown",
   "id": "dd91d8b3",
   "metadata": {},
   "source": [
    "Order by company and ascending year, for tools like .pct_change() whose operations operates in rows such as:  \n",
    "> $(row_{i+1}- row_{i}) / row_{i}$"
   ]
  },
  {
   "cell_type": "code",
   "execution_count": null,
   "id": "7e0e2c0c",
   "metadata": {},
   "outputs": [
    {
     "data": {
      "application/vnd.microsoft.datawrangler.viewer.v0+json": {
       "columns": [
        {
         "name": "index",
         "rawType": "int64",
         "type": "integer"
        },
        {
         "name": "Company",
         "rawType": "object",
         "type": "string"
        },
        {
         "name": "Year",
         "rawType": "int64",
         "type": "integer"
        },
        {
         "name": "Total Revenue",
         "rawType": "int64",
         "type": "integer"
        },
        {
         "name": "Net Income",
         "rawType": "int64",
         "type": "integer"
        },
        {
         "name": "Total Assets",
         "rawType": "int64",
         "type": "integer"
        },
        {
         "name": "Total Liabilities",
         "rawType": "int64",
         "type": "integer"
        },
        {
         "name": "Cash Flow from Operations",
         "rawType": "int64",
         "type": "integer"
        }
       ],
       "ref": "d86309c8-30b5-4b1a-84d3-7fc5294ea5af",
       "rows": [
        [
         "5",
         "Apple",
         "2022",
         "394328",
         "99803",
         "352755",
         "302083",
         "122151"
        ],
        [
         "4",
         "Apple",
         "2023",
         "383285",
         "96995",
         "352583",
         "290437",
         "110543"
        ],
        [
         "3",
         "Apple",
         "2024",
         "391035",
         "93736",
         "364980",
         "308030",
         "118254"
        ],
        [
         "2",
         "Microsoft",
         "2023",
         "211915",
         "72361",
         "411976",
         "205753",
         "87582"
        ],
        [
         "1",
         "Microsoft",
         "2024",
         "245122",
         "88136",
         "512163",
         "243686",
         "118548"
        ],
        [
         "0",
         "Microsoft",
         "2025",
         "281724",
         "101832",
         "619003",
         "275524",
         "136162"
        ],
        [
         "8",
         "Tesla",
         "2022",
         "81462",
         "12587",
         "82338",
         "36440",
         "14724"
        ],
        [
         "7",
         "Tesla",
         "2023",
         "96773",
         "14974",
         "106618",
         "43009",
         "13256"
        ],
        [
         "6",
         "Tesla",
         "2024",
         "97690",
         "7153",
         "122070",
         "48390",
         "14923"
        ]
       ],
       "shape": {
        "columns": 7,
        "rows": 9
       }
      },
      "text/html": [
       "<div>\n",
       "<style scoped>\n",
       "    .dataframe tbody tr th:only-of-type {\n",
       "        vertical-align: middle;\n",
       "    }\n",
       "\n",
       "    .dataframe tbody tr th {\n",
       "        vertical-align: top;\n",
       "    }\n",
       "\n",
       "    .dataframe thead th {\n",
       "        text-align: right;\n",
       "    }\n",
       "</style>\n",
       "<table border=\"1\" class=\"dataframe\">\n",
       "  <thead>\n",
       "    <tr style=\"text-align: right;\">\n",
       "      <th></th>\n",
       "      <th>Company</th>\n",
       "      <th>Year</th>\n",
       "      <th>Total Revenue</th>\n",
       "      <th>Net Income</th>\n",
       "      <th>Total Assets</th>\n",
       "      <th>Total Liabilities</th>\n",
       "      <th>Cash Flow from Operations</th>\n",
       "    </tr>\n",
       "  </thead>\n",
       "  <tbody>\n",
       "    <tr>\n",
       "      <th>5</th>\n",
       "      <td>Apple</td>\n",
       "      <td>2022</td>\n",
       "      <td>394328</td>\n",
       "      <td>99803</td>\n",
       "      <td>352755</td>\n",
       "      <td>302083</td>\n",
       "      <td>122151</td>\n",
       "    </tr>\n",
       "    <tr>\n",
       "      <th>4</th>\n",
       "      <td>Apple</td>\n",
       "      <td>2023</td>\n",
       "      <td>383285</td>\n",
       "      <td>96995</td>\n",
       "      <td>352583</td>\n",
       "      <td>290437</td>\n",
       "      <td>110543</td>\n",
       "    </tr>\n",
       "    <tr>\n",
       "      <th>3</th>\n",
       "      <td>Apple</td>\n",
       "      <td>2024</td>\n",
       "      <td>391035</td>\n",
       "      <td>93736</td>\n",
       "      <td>364980</td>\n",
       "      <td>308030</td>\n",
       "      <td>118254</td>\n",
       "    </tr>\n",
       "    <tr>\n",
       "      <th>2</th>\n",
       "      <td>Microsoft</td>\n",
       "      <td>2023</td>\n",
       "      <td>211915</td>\n",
       "      <td>72361</td>\n",
       "      <td>411976</td>\n",
       "      <td>205753</td>\n",
       "      <td>87582</td>\n",
       "    </tr>\n",
       "    <tr>\n",
       "      <th>1</th>\n",
       "      <td>Microsoft</td>\n",
       "      <td>2024</td>\n",
       "      <td>245122</td>\n",
       "      <td>88136</td>\n",
       "      <td>512163</td>\n",
       "      <td>243686</td>\n",
       "      <td>118548</td>\n",
       "    </tr>\n",
       "    <tr>\n",
       "      <th>0</th>\n",
       "      <td>Microsoft</td>\n",
       "      <td>2025</td>\n",
       "      <td>281724</td>\n",
       "      <td>101832</td>\n",
       "      <td>619003</td>\n",
       "      <td>275524</td>\n",
       "      <td>136162</td>\n",
       "    </tr>\n",
       "    <tr>\n",
       "      <th>8</th>\n",
       "      <td>Tesla</td>\n",
       "      <td>2022</td>\n",
       "      <td>81462</td>\n",
       "      <td>12587</td>\n",
       "      <td>82338</td>\n",
       "      <td>36440</td>\n",
       "      <td>14724</td>\n",
       "    </tr>\n",
       "    <tr>\n",
       "      <th>7</th>\n",
       "      <td>Tesla</td>\n",
       "      <td>2023</td>\n",
       "      <td>96773</td>\n",
       "      <td>14974</td>\n",
       "      <td>106618</td>\n",
       "      <td>43009</td>\n",
       "      <td>13256</td>\n",
       "    </tr>\n",
       "    <tr>\n",
       "      <th>6</th>\n",
       "      <td>Tesla</td>\n",
       "      <td>2024</td>\n",
       "      <td>97690</td>\n",
       "      <td>7153</td>\n",
       "      <td>122070</td>\n",
       "      <td>48390</td>\n",
       "      <td>14923</td>\n",
       "    </tr>\n",
       "  </tbody>\n",
       "</table>\n",
       "</div>"
      ],
      "text/plain": [
       "     Company  Year  Total Revenue  Net Income  Total Assets  \\\n",
       "5      Apple  2022         394328       99803        352755   \n",
       "4      Apple  2023         383285       96995        352583   \n",
       "3      Apple  2024         391035       93736        364980   \n",
       "2  Microsoft  2023         211915       72361        411976   \n",
       "1  Microsoft  2024         245122       88136        512163   \n",
       "0  Microsoft  2025         281724      101832        619003   \n",
       "8      Tesla  2022          81462       12587         82338   \n",
       "7      Tesla  2023          96773       14974        106618   \n",
       "6      Tesla  2024          97690        7153        122070   \n",
       "\n",
       "   Total Liabilities  Cash Flow from Operations  \n",
       "5             302083                     122151  \n",
       "4             290437                     110543  \n",
       "3             308030                     118254  \n",
       "2             205753                      87582  \n",
       "1             243686                     118548  \n",
       "0             275524                     136162  \n",
       "8              36440                      14724  \n",
       "7              43009                      13256  \n",
       "6              48390                      14923  "
      ]
     },
     "execution_count": null,
     "metadata": {},
     "output_type": "execute_result"
    }
   ],
   "source": [
    "df.sort_values(by=[\"Company\", \"Year\"], inplace=True, ascending=[True, True])\n",
    "df"
   ]
  },
  {
   "cell_type": "markdown",
   "id": "05655b62",
   "metadata": {},
   "source": [
    "The percentage change has to be applied to all the facts (all columns except Company and Year)"
   ]
  },
  {
   "cell_type": "code",
   "execution_count": null,
   "id": "b8d5aaa5",
   "metadata": {},
   "outputs": [
    {
     "data": {
      "text/plain": [
       "Index(['Cash Flow from Operations', 'Net Income', 'Total Assets',\n",
       "       'Total Liabilities', 'Total Revenue'],\n",
       "      dtype='object')"
      ]
     },
     "execution_count": null,
     "metadata": {},
     "output_type": "execute_result"
    }
   ],
   "source": [
    "cols_to_change = df.columns.difference(['Company', 'Year'])\n",
    "cols_to_change"
   ]
  },
  {
   "cell_type": "markdown",
   "id": "8ee0950a",
   "metadata": {},
   "source": [
    "To avoid applying the method co rows of different companies, groupby Company"
   ]
  },
  {
   "cell_type": "code",
   "execution_count": null,
   "id": "fb34416f",
   "metadata": {},
   "outputs": [],
   "source": [
    "pct_change_df = df.groupby(\"Company\")[cols_to_change].pct_change() * 100\n",
    "# Add suffix to the new columns to indicate they are growth percentages\n",
    "pct_change_df = pct_change_df.add_suffix(' growth (%)')"
   ]
  },
  {
   "cell_type": "markdown",
   "id": "eea11363",
   "metadata": {},
   "source": [
    "## Fill NA values that result from pct_change calculations with 0 or an appropriate value\n"
   ]
  },
  {
   "cell_type": "code",
   "execution_count": null,
   "id": "5672721b",
   "metadata": {},
   "outputs": [],
   "source": [
    "pct_change_df.fillna(0, inplace=True)"
   ]
  },
  {
   "cell_type": "markdown",
   "id": "ca2e2c7b",
   "metadata": {},
   "source": [
    "We can add the new columns to the original dataframe"
   ]
  },
  {
   "cell_type": "code",
   "execution_count": null,
   "id": "5a13affa",
   "metadata": {},
   "outputs": [
    {
     "data": {
      "application/vnd.microsoft.datawrangler.viewer.v0+json": {
       "columns": [
        {
         "name": "index",
         "rawType": "int64",
         "type": "integer"
        },
        {
         "name": "Company",
         "rawType": "object",
         "type": "string"
        },
        {
         "name": "Year",
         "rawType": "int64",
         "type": "integer"
        },
        {
         "name": "Total Revenue",
         "rawType": "int64",
         "type": "integer"
        },
        {
         "name": "Net Income",
         "rawType": "int64",
         "type": "integer"
        },
        {
         "name": "Total Assets",
         "rawType": "int64",
         "type": "integer"
        },
        {
         "name": "Total Liabilities",
         "rawType": "int64",
         "type": "integer"
        },
        {
         "name": "Cash Flow from Operations",
         "rawType": "int64",
         "type": "integer"
        },
        {
         "name": "Cash Flow from Operations growth (%)",
         "rawType": "float64",
         "type": "float"
        },
        {
         "name": "Net Income growth (%)",
         "rawType": "float64",
         "type": "float"
        },
        {
         "name": "Total Assets growth (%)",
         "rawType": "float64",
         "type": "float"
        },
        {
         "name": "Total Liabilities growth (%)",
         "rawType": "float64",
         "type": "float"
        },
        {
         "name": "Total Revenue growth (%)",
         "rawType": "float64",
         "type": "float"
        }
       ],
       "ref": "c6399d08-f3f2-436a-b55c-f6e40aa13ba9",
       "rows": [
        [
         "5",
         "Apple",
         "2022",
         "394328",
         "99803",
         "352755",
         "302083",
         "122151",
         "0.0",
         "0.0",
         "0.0",
         "0.0",
         "0.0"
        ],
        [
         "4",
         "Apple",
         "2023",
         "383285",
         "96995",
         "352583",
         "290437",
         "110543",
         "-9.502992198180937",
         "-2.813542679077785",
         "-0.04875905373418199",
         "-3.855231840255824",
         "-2.800460530319937"
        ],
        [
         "3",
         "Apple",
         "2024",
         "391035",
         "93736",
         "364980",
         "308030",
         "118254",
         "6.9755660693124",
         "-3.3599670086086886",
         "3.516051539637477",
         "6.057423813081675",
         "2.021994077514111"
        ],
        [
         "2",
         "Microsoft",
         "2023",
         "211915",
         "72361",
         "411976",
         "205753",
         "87582",
         "0.0",
         "0.0",
         "0.0",
         "0.0",
         "0.0"
        ],
        [
         "1",
         "Microsoft",
         "2024",
         "245122",
         "88136",
         "512163",
         "243686",
         "118548",
         "35.356580119202576",
         "21.800417351888445",
         "24.318649630075527",
         "18.43618319052456",
         "15.66996201307127"
        ],
        [
         "0",
         "Microsoft",
         "2025",
         "281724",
         "101832",
         "619003",
         "275524",
         "136162",
         "14.85811654350979",
         "15.539620586366532",
         "20.86054634950201",
         "13.065174035439053",
         "14.932156232406712"
        ],
        [
         "8",
         "Tesla",
         "2022",
         "81462",
         "12587",
         "82338",
         "36440",
         "14724",
         "0.0",
         "0.0",
         "0.0",
         "0.0",
         "0.0"
        ],
        [
         "7",
         "Tesla",
         "2023",
         "96773",
         "14974",
         "106618",
         "43009",
         "13256",
         "-9.970116816082585",
         "18.9640104870104",
         "29.488207146153655",
         "18.026893523600428",
         "18.79526650462793"
        ],
        [
         "6",
         "Tesla",
         "2024",
         "97690",
         "7153",
         "122070",
         "48390",
         "14923",
         "12.57543753771877",
         "-52.23053292373447",
         "14.492862368455617",
         "12.511334836894594",
         "0.9475783534663496"
        ]
       ],
       "shape": {
        "columns": 12,
        "rows": 9
       }
      },
      "text/html": [
       "<div>\n",
       "<style scoped>\n",
       "    .dataframe tbody tr th:only-of-type {\n",
       "        vertical-align: middle;\n",
       "    }\n",
       "\n",
       "    .dataframe tbody tr th {\n",
       "        vertical-align: top;\n",
       "    }\n",
       "\n",
       "    .dataframe thead th {\n",
       "        text-align: right;\n",
       "    }\n",
       "</style>\n",
       "<table border=\"1\" class=\"dataframe\">\n",
       "  <thead>\n",
       "    <tr style=\"text-align: right;\">\n",
       "      <th></th>\n",
       "      <th>Company</th>\n",
       "      <th>Year</th>\n",
       "      <th>Total Revenue</th>\n",
       "      <th>Net Income</th>\n",
       "      <th>Total Assets</th>\n",
       "      <th>Total Liabilities</th>\n",
       "      <th>Cash Flow from Operations</th>\n",
       "      <th>Cash Flow from Operations growth (%)</th>\n",
       "      <th>Net Income growth (%)</th>\n",
       "      <th>Total Assets growth (%)</th>\n",
       "      <th>Total Liabilities growth (%)</th>\n",
       "      <th>Total Revenue growth (%)</th>\n",
       "    </tr>\n",
       "  </thead>\n",
       "  <tbody>\n",
       "    <tr>\n",
       "      <th>5</th>\n",
       "      <td>Apple</td>\n",
       "      <td>2022</td>\n",
       "      <td>394328</td>\n",
       "      <td>99803</td>\n",
       "      <td>352755</td>\n",
       "      <td>302083</td>\n",
       "      <td>122151</td>\n",
       "      <td>0.000000</td>\n",
       "      <td>0.000000</td>\n",
       "      <td>0.000000</td>\n",
       "      <td>0.000000</td>\n",
       "      <td>0.000000</td>\n",
       "    </tr>\n",
       "    <tr>\n",
       "      <th>4</th>\n",
       "      <td>Apple</td>\n",
       "      <td>2023</td>\n",
       "      <td>383285</td>\n",
       "      <td>96995</td>\n",
       "      <td>352583</td>\n",
       "      <td>290437</td>\n",
       "      <td>110543</td>\n",
       "      <td>-9.502992</td>\n",
       "      <td>-2.813543</td>\n",
       "      <td>-0.048759</td>\n",
       "      <td>-3.855232</td>\n",
       "      <td>-2.800461</td>\n",
       "    </tr>\n",
       "    <tr>\n",
       "      <th>3</th>\n",
       "      <td>Apple</td>\n",
       "      <td>2024</td>\n",
       "      <td>391035</td>\n",
       "      <td>93736</td>\n",
       "      <td>364980</td>\n",
       "      <td>308030</td>\n",
       "      <td>118254</td>\n",
       "      <td>6.975566</td>\n",
       "      <td>-3.359967</td>\n",
       "      <td>3.516052</td>\n",
       "      <td>6.057424</td>\n",
       "      <td>2.021994</td>\n",
       "    </tr>\n",
       "    <tr>\n",
       "      <th>2</th>\n",
       "      <td>Microsoft</td>\n",
       "      <td>2023</td>\n",
       "      <td>211915</td>\n",
       "      <td>72361</td>\n",
       "      <td>411976</td>\n",
       "      <td>205753</td>\n",
       "      <td>87582</td>\n",
       "      <td>0.000000</td>\n",
       "      <td>0.000000</td>\n",
       "      <td>0.000000</td>\n",
       "      <td>0.000000</td>\n",
       "      <td>0.000000</td>\n",
       "    </tr>\n",
       "    <tr>\n",
       "      <th>1</th>\n",
       "      <td>Microsoft</td>\n",
       "      <td>2024</td>\n",
       "      <td>245122</td>\n",
       "      <td>88136</td>\n",
       "      <td>512163</td>\n",
       "      <td>243686</td>\n",
       "      <td>118548</td>\n",
       "      <td>35.356580</td>\n",
       "      <td>21.800417</td>\n",
       "      <td>24.318650</td>\n",
       "      <td>18.436183</td>\n",
       "      <td>15.669962</td>\n",
       "    </tr>\n",
       "    <tr>\n",
       "      <th>0</th>\n",
       "      <td>Microsoft</td>\n",
       "      <td>2025</td>\n",
       "      <td>281724</td>\n",
       "      <td>101832</td>\n",
       "      <td>619003</td>\n",
       "      <td>275524</td>\n",
       "      <td>136162</td>\n",
       "      <td>14.858117</td>\n",
       "      <td>15.539621</td>\n",
       "      <td>20.860546</td>\n",
       "      <td>13.065174</td>\n",
       "      <td>14.932156</td>\n",
       "    </tr>\n",
       "    <tr>\n",
       "      <th>8</th>\n",
       "      <td>Tesla</td>\n",
       "      <td>2022</td>\n",
       "      <td>81462</td>\n",
       "      <td>12587</td>\n",
       "      <td>82338</td>\n",
       "      <td>36440</td>\n",
       "      <td>14724</td>\n",
       "      <td>0.000000</td>\n",
       "      <td>0.000000</td>\n",
       "      <td>0.000000</td>\n",
       "      <td>0.000000</td>\n",
       "      <td>0.000000</td>\n",
       "    </tr>\n",
       "    <tr>\n",
       "      <th>7</th>\n",
       "      <td>Tesla</td>\n",
       "      <td>2023</td>\n",
       "      <td>96773</td>\n",
       "      <td>14974</td>\n",
       "      <td>106618</td>\n",
       "      <td>43009</td>\n",
       "      <td>13256</td>\n",
       "      <td>-9.970117</td>\n",
       "      <td>18.964010</td>\n",
       "      <td>29.488207</td>\n",
       "      <td>18.026894</td>\n",
       "      <td>18.795267</td>\n",
       "    </tr>\n",
       "    <tr>\n",
       "      <th>6</th>\n",
       "      <td>Tesla</td>\n",
       "      <td>2024</td>\n",
       "      <td>97690</td>\n",
       "      <td>7153</td>\n",
       "      <td>122070</td>\n",
       "      <td>48390</td>\n",
       "      <td>14923</td>\n",
       "      <td>12.575438</td>\n",
       "      <td>-52.230533</td>\n",
       "      <td>14.492862</td>\n",
       "      <td>12.511335</td>\n",
       "      <td>0.947578</td>\n",
       "    </tr>\n",
       "  </tbody>\n",
       "</table>\n",
       "</div>"
      ],
      "text/plain": [
       "     Company  Year  Total Revenue  Net Income  Total Assets  \\\n",
       "5      Apple  2022         394328       99803        352755   \n",
       "4      Apple  2023         383285       96995        352583   \n",
       "3      Apple  2024         391035       93736        364980   \n",
       "2  Microsoft  2023         211915       72361        411976   \n",
       "1  Microsoft  2024         245122       88136        512163   \n",
       "0  Microsoft  2025         281724      101832        619003   \n",
       "8      Tesla  2022          81462       12587         82338   \n",
       "7      Tesla  2023          96773       14974        106618   \n",
       "6      Tesla  2024          97690        7153        122070   \n",
       "\n",
       "   Total Liabilities  Cash Flow from Operations  \\\n",
       "5             302083                     122151   \n",
       "4             290437                     110543   \n",
       "3             308030                     118254   \n",
       "2             205753                      87582   \n",
       "1             243686                     118548   \n",
       "0             275524                     136162   \n",
       "8              36440                      14724   \n",
       "7              43009                      13256   \n",
       "6              48390                      14923   \n",
       "\n",
       "   Cash Flow from Operations growth (%)  Net Income growth (%)  \\\n",
       "5                              0.000000               0.000000   \n",
       "4                             -9.502992              -2.813543   \n",
       "3                              6.975566              -3.359967   \n",
       "2                              0.000000               0.000000   \n",
       "1                             35.356580              21.800417   \n",
       "0                             14.858117              15.539621   \n",
       "8                              0.000000               0.000000   \n",
       "7                             -9.970117              18.964010   \n",
       "6                             12.575438             -52.230533   \n",
       "\n",
       "   Total Assets growth (%)  Total Liabilities growth (%)  \\\n",
       "5                 0.000000                      0.000000   \n",
       "4                -0.048759                     -3.855232   \n",
       "3                 3.516052                      6.057424   \n",
       "2                 0.000000                      0.000000   \n",
       "1                24.318650                     18.436183   \n",
       "0                20.860546                     13.065174   \n",
       "8                 0.000000                      0.000000   \n",
       "7                29.488207                     18.026894   \n",
       "6                14.492862                     12.511335   \n",
       "\n",
       "   Total Revenue growth (%)  \n",
       "5                  0.000000  \n",
       "4                 -2.800461  \n",
       "3                  2.021994  \n",
       "2                  0.000000  \n",
       "1                 15.669962  \n",
       "0                 14.932156  \n",
       "8                  0.000000  \n",
       "7                 18.795267  \n",
       "6                  0.947578  "
      ]
     },
     "execution_count": null,
     "metadata": {},
     "output_type": "execute_result"
    }
   ],
   "source": [
    "df_with_growth = pd.concat([df, pct_change_df], axis=1)\n",
    "df_with_growth"
   ]
  },
  {
   "cell_type": "markdown",
   "id": "d0cd6cae",
   "metadata": {},
   "source": [
    "## Optionally, you could summarize these findings for each company\n"
   ]
  },
  {
   "cell_type": "code",
   "execution_count": null,
   "id": "83eac377",
   "metadata": {},
   "outputs": [
    {
     "data": {
      "text/plain": [
       "Index(['Company', 'Year', 'Total Revenue', 'Net Income', 'Total Assets',\n",
       "       'Total Liabilities', 'Cash Flow from Operations',\n",
       "       'Cash Flow from Operations growth (%)', 'Net Income growth (%)',\n",
       "       'Total Assets growth (%)', 'Total Liabilities growth (%)',\n",
       "       'Total Revenue growth (%)'],\n",
       "      dtype='object')"
      ]
     },
     "execution_count": null,
     "metadata": {},
     "output_type": "execute_result"
    }
   ],
   "source": [
    "df_with_growth.columns"
   ]
  },
  {
   "cell_type": "code",
   "execution_count": null,
   "id": "97be4e87",
   "metadata": {},
   "outputs": [
    {
     "name": "stdout",
     "output_type": "stream",
     "text": [
      "\n",
      "Year-over-Year Average Growth Rates (%):\n",
      "     Company  Total Revenue growth (%)  Net Income growth (%)\n",
      "0      Apple                 -0.259489              -2.057837\n",
      "1  Microsoft                 10.200706              12.446679\n",
      "2      Tesla                  6.580948             -11.088841\n"
     ]
    }
   ],
   "source": [
    "summary = df_with_growth.groupby('Company').agg({\n",
    "    'Total Revenue growth (%)': 'mean',\n",
    "    'Net Income growth (%)': 'mean'\n",
    "}).reset_index()\n",
    "\n",
    "print(\"\\nYear-over-Year Average Growth Rates (%):\")\n",
    "print(summary)"
   ]
  },
  {
   "cell_type": "markdown",
   "id": "83df76a5",
   "metadata": {},
   "source": [
    "# Graphs"
   ]
  },
  {
   "cell_type": "code",
   "execution_count": null,
   "id": "efd6ad48",
   "metadata": {},
   "outputs": [],
   "source": [
    "#| export\n",
    "import seaborn as sns\n",
    "import matplotlib.pyplot as plt"
   ]
  },
  {
   "cell_type": "code",
   "execution_count": null,
   "id": "170079f0",
   "metadata": {},
   "outputs": [
    {
     "data": {
      "text/plain": [
       "Index(['Cash Flow from Operations', 'Net Income', 'Total Assets',\n",
       "       'Total Liabilities', 'Total Revenue'],\n",
       "      dtype='object')"
      ]
     },
     "execution_count": null,
     "metadata": {},
     "output_type": "execute_result"
    }
   ],
   "source": [
    "cols_to_change"
   ]
  },
  {
   "cell_type": "markdown",
   "id": "40c3c725",
   "metadata": {},
   "source": [
    "## Plot the percentage of change of the financial facts accross years"
   ]
  },
  {
   "cell_type": "code",
   "execution_count": null,
   "id": "840b9437",
   "metadata": {},
   "outputs": [
    {
     "data": {
      "image/png": "[encoded data removed]",
      "text/plain": [
       "<Figure size 1000x600 with 6 Axes>"
      ]
     },
     "metadata": {},
     "output_type": "display_data"
    }
   ],
   "source": [
    "fig, axs = plt.subplots(3,2, figsize=(10, 6))\n",
    "\n",
    "for col in cols_to_change:\n",
    "    ax = axs.flatten()[cols_to_change.get_loc(col)]\n",
    "    sns.barplot(data=df_with_growth, x=\"Year\", y=f\"{col} growth (%)\", hue=\"Company\", ax=ax)\n",
    "    ax.legend(loc=\"upper left\")\n",
    "plt.tight_layout()\n",
    "plt.show()\n"
   ]
  },
  {
   "cell_type": "code",
   "execution_count": null,
   "id": "663f62d4",
   "metadata": {},
   "outputs": [],
   "source": [
    "import matplotlib.gridspec as gridspec\n"
   ]
  },
  {
   "cell_type": "code",
   "execution_count": null,
   "id": "a0ce29c1",
   "metadata": {},
   "outputs": [
    {
     "data": {
      "image/png": "[encoded data removed]",
      "text/plain": [
       "<Figure size 1200x900 with 5 Axes>"
      ]
     },
     "metadata": {},
     "output_type": "display_data"
    }
   ],
   "source": [
    "cols_to_plot = ['Total Revenue', 'Net Income',\n",
    "                'Cash Flow from Operations', 'Total Assets', 'Total Liabilities']\n",
    "\n",
    "fig = plt.figure(figsize=(12, 9))\n",
    "\n",
    "gs = gridspec.GridSpec(6, 2, figure=fig)\n",
    "axs = []\n",
    "ax0 = fig.add_subplot(gs[:3, 0])\n",
    "ax1 = fig.add_subplot(gs[3:, 0])\n",
    "ax2 = fig.add_subplot(gs[:2, 1])\n",
    "ax3 = fig.add_subplot(gs[2:4, 1])\n",
    "ax4 = fig.add_subplot(gs[4:, 1])\n",
    "axs.extend([ax0, ax1, ax2, ax3, ax4])\n",
    "\n",
    "for i, col in enumerate(cols_to_plot):\n",
    "    ax = axs[i]\n",
    "    sns.barplot(data=df_with_growth, x=\"Year\", y=f\"{col} growth (%)\", hue=\"Company\", ax=ax)\n",
    "    ax.legend(loc=\"upper left\")\n",
    "plt.tight_layout()\n",
    "plt.show()"
   ]
  },
  {
   "cell_type": "markdown",
   "id": "370b7240",
   "metadata": {},
   "source": [
    "+ 2023 was not a good financial year and companies like Apple and Tesla have negative growth in their Cash Flow from operations, and even in 2024 the consecuences of 2023 can be seen in the Net income growth and Total Revenue growth.\n",
    "+ Both Tesla and Apple have their main business related to selling physical products, however Microsoft is specialised in software and their growth is stable for the current data. "
   ]
  },
  {
   "cell_type": "markdown",
   "id": "f77ab56e",
   "metadata": {},
   "source": [
    "# Save dataframe"
   ]
  },
  {
   "cell_type": "code",
   "execution_count": null,
   "id": "87f3b241",
   "metadata": {},
   "outputs": [
    {
     "name": "stdout",
     "output_type": "stream",
     "text": [
      "DataFrame saved to: ../resources/financial_data_chatbot.csv\n"
     ]
    }
   ],
   "source": [
    "# Ensure target folder exists and save the dataframe\n",
    "path_to_data.mkdir(parents=True, exist_ok=True)\n",
    "output_file = path_to_data / \"financial_data_chatbot.csv\"\n",
    "df_with_growth.to_csv(output_file, index=False)\n",
    "print(f\"DataFrame saved to: {output_file}\")"
   ]
  }
 ],
 "metadata": {
  "kernelspec": {
   "display_name": "python3",
   "language": "python",
   "name": "python3"
  }
 },
 "nbformat": 4,
 "nbformat_minor": 5
}
