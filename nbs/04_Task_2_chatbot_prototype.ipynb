{
 "cells": [
  {
   "cell_type": "code",
   "execution_count": null,
   "id": "3164d508",
   "metadata": {},
   "outputs": [],
   "source": [
    "%load_ext autoreload\n",
    "%autoreload 2\n"
   ]
  },
  {
   "cell_type": "code",
   "execution_count": null,
   "id": "229fcdd9",
   "metadata": {},
   "outputs": [],
   "source": [
    "#| default_exp chatbot"
   ]
  },
  {
   "cell_type": "code",
   "execution_count": null,
   "id": "9205db47",
   "metadata": {},
   "outputs": [],
   "source": [
    "#| export\n",
    "\n",
    "import pandas as pd\n",
    "import sys\n",
    "import os\n",
    "from pathlib import Path\n",
    "from fastcore.all import patch\n",
    "import matplotlib.pyplot as plt\n",
    "import seaborn as sns"
   ]
  },
  {
   "cell_type": "markdown",
   "id": "8dc4d01c",
   "metadata": {},
   "source": [
    "# Load data / Manually input the data"
   ]
  },
  {
   "cell_type": "code",
   "execution_count": null,
   "id": "6299de5e",
   "metadata": {},
   "outputs": [],
   "source": [
    "#| export\n",
    "\n",
    "# With this I deal with notebooks and .py files to get the parent folder of the running file\n",
    "# since __file__ is not defined in notebooks\n",
    "def get_base_dir():\n",
    "    try:\n",
    "        # Works in .py scripts\n",
    "        return Path(__file__).resolve().parent\n",
    "    except NameError:\n",
    "        # Fallback for Jupyter notebooks\n",
    "        return Path(os.getcwd()).resolve()"
   ]
  },
  {
   "cell_type": "code",
   "execution_count": null,
   "id": "a8a193f4",
   "metadata": {},
   "outputs": [],
   "source": [
    "base_dir = get_base_dir()\n",
    "path_to_data = base_dir.parent / \"resources\"\n",
    "file_name = \"financial_data_chatbot.csv\"\n",
    "file_path = path_to_data / file_name\n"
   ]
  },
  {
   "cell_type": "markdown",
   "id": "4a0d520c",
   "metadata": {},
   "source": [
    "# Data class for the chatbot"
   ]
  },
  {
   "cell_type": "markdown",
   "id": "60daf48b",
   "metadata": {},
   "source": [
    "## Scheme for the chatbot:"
   ]
  },
  {
   "cell_type": "code",
   "execution_count": null,
   "id": "b8057095",
   "metadata": {},
   "outputs": [],
   "source": [
    "#| export\n",
    "class financial_chatbot():\n",
    "\n",
    "    def __init__(self, file_path: Path):\n",
    "        \n",
    "        self._data = pd.read_csv(file_path)\n",
    "        \n",
    "        self._last_query: str = None\n",
    "        self._current_query:str = None\n",
    "\n",
    "        self._available_companies = self._data['Company'].unique().tolist()\n",
    "        self._current_companies = []\n",
    "\n",
    "        self._last_action = []\n",
    "        self._current_action = []\n",
    "\n",
    "        # Financial facts in data\n",
    "        self._available_fin_facts = self._data.columns.difference(['Company', 'Year']).to_list()\n",
    "        self._last_fin_facts = []\n",
    "        self._current_fin_facts = []\n",
    "\n",
    "        # The dictionary that will hold the final mapping\n",
    "        self.action_for = {}\n",
    "        self._keywords_print = set(['print', 'give me', 'show', 'display', 'output'])\n",
    "        self._keywords_plot = set(['plot', 'graph', 'chart', 'visualize'])\n",
    "\n",
    "\n",
    "        # Main keywords of the data\n",
    "        # Words that indicate growth/percentage intent\n",
    "        self._growth_keywords = {'grow', 'growth', 'percentage', 'percent', '%', 'increase', 'change', 'yoy', 'annualized'}\n",
    "\n",
    "        # Stopwords to ignore when matching tokens (keeps domain words like 'cash' and 'flow')\n",
    "        self._stopwords = {'the', 'and', 'of', 'from', 'a', 'an', 'in', 'on', 'at', 'for', 'to', 'total'}\n",
    "\n",
    "\n",
    "        # Chatbot Hello\n",
    "        self.print_intro()\n",
    "\n",
    "        # Initiate some variables\n",
    "        self.initiate_actions_dictionary()\n",
    "\n",
    "    def initiate_actions_dictionary(self):\n",
    "        \"\"\"Defined below\"\"\"\n",
    "        return\n",
    "\n",
    "    def get_response(self, message=\"Your message:\"):        \n",
    "        self._last_query = self._current_query\n",
    "        self._current_query = input(message)\n",
    "        print()\n",
    "\n",
    "        # If user wants to exit, stop the program\n",
    "        if self._current_query.lower() in [\"exit\", \"quit\"]:\n",
    "            raise SystemExit(\"Exiting chatbot.\")\n",
    "\n",
    "\n",
    "\n",
    "    def print_intro(self):\n",
    "        intro_text = \"\"\"\n",
    "        Welcome to the Financial Chatbot!\n",
    "        You can ask me questions about financial data.\n",
    "\n",
    "        Note: All values, unless stated as percentages, \n",
    "        are expressed in millions of dollars (M$). \n",
    "        \n",
    "        Type 'exit' to end the conversation.\n",
    "\n",
    "        How can I assist you today? \n",
    "        \"\"\"\n",
    "        print(intro_text)\n",
    "        \n"
   ]
  },
  {
   "cell_type": "code",
   "execution_count": null,
   "id": "c8478d06",
   "metadata": {},
   "outputs": [],
   "source": [
    "chatbot = financial_chatbot(file_path=file_path)"
   ]
  },
  {
   "cell_type": "code",
   "execution_count": null,
   "id": "543aecbb",
   "metadata": {},
   "outputs": [],
   "source": [
    "chatbot.print_intro()"
   ]
  },
  {
   "cell_type": "code",
   "execution_count": null,
   "id": "5c9c185a",
   "metadata": {},
   "outputs": [],
   "source": [
    "chatbot._available_companies"
   ]
  },
  {
   "cell_type": "markdown",
   "id": "64d31465",
   "metadata": {},
   "source": [
    "0. I need a company or companies to query\n",
    "    + I should have a current company field that gets updated when parsing for companies\n",
    "    + If there is no Company in the query I continue applyin things to the `current_company`\n",
    "    + If after parsing everything `current_company` is empty, I have to ask for the company.\n",
    "    \n",
    "1. From the query I need an action keyword:\n",
    "    - actions: \n",
    "        + ['show', 'print', 'get', 'display', 'tell', 'give', \"how\", \"what\"]\n",
    "        + ['plot', 'graph', 'chart', 'visualize', 'draw']\n",
    "2. I also need a subject keyword or keywords to ignore:\n",
    "    - stopwords = {'the', 'and', 'of', 'from', 'a', 'an', 'in', 'on', 'at', 'for', 'to', 'total'}\n",
    "    \n",
    "3. And adjectives keywords to classify:\n",
    "    - adjectives: \n",
    "        + ['growth', 'change', 'increase', 'decrease']\n"
   ]
  },
  {
   "cell_type": "markdown",
   "id": "6f386d8c",
   "metadata": {},
   "source": [
    "## Methods to parse and prompt for missing information"
   ]
  },
  {
   "cell_type": "markdown",
   "id": "296d1651",
   "metadata": {},
   "source": [
    "### Method to parse and update the companies"
   ]
  },
  {
   "cell_type": "code",
   "execution_count": null,
   "id": "08522555",
   "metadata": {},
   "outputs": [],
   "source": [
    "#| export\n",
    "@patch\n",
    "def parse_companies(self: financial_chatbot):\n",
    "    comp = []\n",
    "    for company in self._available_companies:\n",
    "        if company.lower() in self._current_query.lower():\n",
    "            comp.append(company)\n",
    "    \n",
    "    # if len comp is not zero, update current companies\n",
    "    if len(comp) > 0:\n",
    "        self._current_companies = comp\n",
    "\n",
    "    return comp\n"
   ]
  },
  {
   "cell_type": "code",
   "execution_count": null,
   "id": "adf149f3",
   "metadata": {},
   "outputs": [],
   "source": [
    "chatbot._current_query = \"Give me the Net income for APPLE.\"\n",
    "print(f\"Parsed companies: {chatbot.parse_companies()}\")\n",
    "print(f\"Active companies: {chatbot._current_companies}\")"
   ]
  },
  {
   "cell_type": "markdown",
   "id": "233b5ccd",
   "metadata": {},
   "source": [
    "If no companies in the query, ask for what companies"
   ]
  },
  {
   "cell_type": "markdown",
   "id": "addef425",
   "metadata": {},
   "source": [
    "### Method to initiate the possible actions"
   ]
  },
  {
   "cell_type": "markdown",
   "id": "84e1fec8",
   "metadata": {},
   "source": [
    "Associate keywords with a function"
   ]
  },
  {
   "cell_type": "code",
   "execution_count": null,
   "id": "1176df51",
   "metadata": {},
   "outputs": [],
   "source": [
    "# The list of all trigger words (synonyms)\n",
    "print_keywords = set(['print', 'give me', 'show', 'display', 'output'])\n",
    "plot_keywords = set(['plot', 'graph', 'chart', 'visualize'])\n",
    "\n",
    "# The dictionary that will hold the final mapping\n",
    "action_for = {}\n"
   ]
  },
  {
   "cell_type": "markdown",
   "id": "b3f2a5d7",
   "metadata": {},
   "source": [
    "Function to populate the dictionary that maps keywords with functions"
   ]
  },
  {
   "cell_type": "code",
   "execution_count": null,
   "id": "b40ea6f4",
   "metadata": {},
   "outputs": [],
   "source": [
    "#| export\n",
    "def associate_action(keywords, function, dictionary):\n",
    "    for keyword in keywords:\n",
    "        dictionary[keyword] = function\n",
    "    \n",
    "    return dictionary"
   ]
  },
  {
   "cell_type": "markdown",
   "id": "36a1a9a4",
   "metadata": {},
   "source": [
    "Populate and test the dictionary"
   ]
  },
  {
   "cell_type": "code",
   "execution_count": null,
   "id": "0c2bfde5",
   "metadata": {},
   "outputs": [],
   "source": [
    "action_for = associate_action(print_keywords, print, action_for)\n",
    "action_for = associate_action(plot_keywords, plt.plot, action_for)"
   ]
  },
  {
   "cell_type": "code",
   "execution_count": null,
   "id": "56345275",
   "metadata": {},
   "outputs": [],
   "source": [
    "action_for['show'](\"Hello, World!\")"
   ]
  },
  {
   "cell_type": "code",
   "execution_count": null,
   "id": "c4242e55",
   "metadata": {},
   "outputs": [],
   "source": [
    "action_for['graph']([1, 2, 3], [4, 5, 6])"
   ]
  },
  {
   "cell_type": "markdown",
   "id": "b60dc0eb",
   "metadata": {},
   "source": [
    "Include this functionality as a method"
   ]
  },
  {
   "cell_type": "code",
   "execution_count": null,
   "id": "b0ac3bfd",
   "metadata": {},
   "outputs": [],
   "source": [
    "#| export\n",
    "@patch\n",
    "def initiate_actions_dictionary(self: financial_chatbot):\n",
    "    # Map print and plot keywords to their respective functions\n",
    "    associate_action(self._keywords_print, print, self.action_for)\n",
    "    associate_action(self._keywords_plot, plt.plot, self.action_for)"
   ]
  },
  {
   "cell_type": "markdown",
   "id": "324e1e0f",
   "metadata": {},
   "source": [
    "### Parse for the action"
   ]
  },
  {
   "cell_type": "code",
   "execution_count": null,
   "id": "f3607a88",
   "metadata": {},
   "outputs": [],
   "source": [
    "#| export\n",
    "@patch\n",
    "def parse_action(self: financial_chatbot):\n",
    "    # Separate the query into words\n",
    "    query = self._current_query.lower().replace(',', '').replace('.', '').split()\n",
    "    # Convert to sets for easier matching\n",
    "    query_set = set(query)\n",
    "\n",
    "    # Get all possible actions\n",
    "    actions_set = set(self.action_for.keys())\n",
    "\n",
    "    # Find common keywords between the query and the action keywords\n",
    "    queried_actions = actions_set.intersection(query_set)\n",
    "\n",
    "    # If any actions were found, update the current actions\n",
    "    if len(queried_actions) > 0:\n",
    "        self._last_action = self._current_action\n",
    "        self._current_action = list(queried_actions)\n",
    "\n",
    "    return queried_actions"
   ]
  },
  {
   "cell_type": "code",
   "execution_count": null,
   "id": "544f5ffc",
   "metadata": {},
   "outputs": [],
   "source": [
    "chatbot._current_query = \"Please plot and print the revenue for Microsoft.\"\n",
    "chatbot.initiate_actions_dictionary()\n",
    "chatbot.parse_action()"
   ]
  },
  {
   "cell_type": "markdown",
   "id": "2b8f3a2f",
   "metadata": {},
   "source": [
    "### Parse for the financial facts"
   ]
  },
  {
   "cell_type": "markdown",
   "id": "302d9f2d",
   "metadata": {},
   "source": [
    "Let's use the re module to look for patterns in the query."
   ]
  },
  {
   "cell_type": "code",
   "execution_count": null,
   "id": "f3781fe0",
   "metadata": {},
   "outputs": [],
   "source": [
    "#| export\n",
    "import re\n",
    "from typing import List"
   ]
  },
  {
   "cell_type": "markdown",
   "id": "a6b1fe9e",
   "metadata": {},
   "source": [
    "---"
   ]
  },
  {
   "cell_type": "code",
   "execution_count": null,
   "id": "7fb1b479",
   "metadata": {},
   "outputs": [],
   "source": [
    "COLUMNS = [\n",
    "    'Cash Flow from Operations',\n",
    "    'Cash Flow from Operations growth (%)',\n",
    "    'Net Income',\n",
    "    'Net Income growth (%)',\n",
    "    'Total Assets',\n",
    "    'Total Assets growth (%)',\n",
    "    'Total Liabilities',\n",
    "    'Total Liabilities growth (%)',\n",
    "    'Total Revenue',\n",
    "    'Total Revenue growth (%)'\n",
    "]\n",
    "\n",
    "# Words that indicate growth/percentage intent\n",
    "GROWTH_KEYWORDS = {'growth', 'percentage', 'percent', '%', 'increase', 'change', 'yoy', 'annualized'}\n",
    "\n",
    "# Stopwords to ignore when matching tokens (keeps domain words like 'cash' and 'flow')\n",
    "STOPWORDS = {'the', 'and', 'of', 'from', 'a', 'an', 'in', 'on', 'at', 'for', 'to', 'total'}\n",
    "\n"
   ]
  },
  {
   "cell_type": "code",
   "execution_count": null,
   "id": "6afb3754",
   "metadata": {},
   "outputs": [],
   "source": [
    "#| export\n",
    "\n",
    "# will extract all the words from a string. Notice how it ignores punctuation like parentheses and %\n",
    "# re.findall(r\"\\w+\", \"Total Liabilities growth (%)\")\n",
    "# → ['Total', 'Liabilities', 'growth']\n",
    "# compiling the regex once so it can be reused efficiently\n",
    "_word_re = re.compile(r\"\\w+\")\n",
    "\n",
    "# Tokenizer that obtains all the words in a text\n",
    "def _tokens(text: str) -> List[str]:\n",
    "    return _word_re.findall(text.lower())\n",
    "\n"
   ]
  },
  {
   "cell_type": "code",
   "execution_count": null,
   "id": "9f65964f",
   "metadata": {},
   "outputs": [],
   "source": [
    "#| export\n",
    "\n",
    "def preprocess_columns(columns, stopwords):\n",
    "    \"\"\"\n",
    "    Converts a list of column names into metadata dictionaries\n",
    "    containing:\n",
    "      - original name\n",
    "      - lowercase token set (without stopwords)\n",
    "      - is_growth flag\n",
    "    \"\"\"\n",
    "    cols_meta = []\n",
    "    for col in columns:\n",
    "        col_lower = col.lower()\n",
    "        # Flag columns that refer to growth or percentages\n",
    "        is_growth_col = 'growth' in col_lower or '(%' in col_lower or '%' in col_lower\n",
    "\n",
    "        # Remove 'growth' and punctuation for base token extraction\n",
    "        base_text = (\n",
    "            col_lower.replace('growth', '')\n",
    "            .replace('(%', '')\n",
    "            .replace(')', '')\n",
    "            .replace('%', '')\n",
    "        )\n",
    "\n",
    "        # Tokenize and remove stopwords\n",
    "        col_tokens = [t for t in _tokens(base_text) if t not in stopwords]\n",
    "\n",
    "        cols_meta.append({\n",
    "            'name': col,\n",
    "            'tokens': set(col_tokens),\n",
    "            'is_growth': is_growth_col\n",
    "        })\n",
    "    return cols_meta"
   ]
  },
  {
   "cell_type": "code",
   "execution_count": null,
   "id": "12200d2f",
   "metadata": {},
   "outputs": [],
   "source": [
    "cols_meta = preprocess_columns(columns=COLUMNS, stopwords=STOPWORDS)\n",
    "display(cols_meta)"
   ]
  },
  {
   "cell_type": "code",
   "execution_count": null,
   "id": "cb05fc2e",
   "metadata": {},
   "outputs": [],
   "source": [
    "#| export\n",
    "\n",
    "# Prefer columns that match the growth intent; but if none produce positive score, allow the other group.\n",
    "def best_match(part_tokens, cols_meta, allow_growth_flag):\n",
    "    \"\"\" Return the column/fact that best matches the query \n",
    "        best (meta dictionary)\n",
    "        score (int)\n",
    "    \"\"\"\n",
    "    best = None\n",
    "    best_score = 0\n",
    "    \n",
    "    # I scan each column (All my financial facts)\n",
    "    for meta in cols_meta:\n",
    "\n",
    "        # I check if my query and the current fact have different growth flag (Then I go to the next column/financ fact)\n",
    "        if meta['is_growth'] != allow_growth_flag:\n",
    "            continue\n",
    "\n",
    "        # how many tokens are the same in my query and the financial fact?\n",
    "        score = len(part_tokens & meta['tokens'])\n",
    "\n",
    "        # If the query contains the fact give it more points (Special cases)\n",
    "        if ( (meta['name'].lower() in ' '.join(part_tokens)) ):\n",
    "            score += 1\n",
    "\n",
    "        # Throughout my scan, I save the financial fact with the best score\n",
    "        if score > best_score:\n",
    "            best = meta\n",
    "            best_score = score\n",
    "            \n",
    "    return best, best_score\n",
    "\n"
   ]
  },
  {
   "cell_type": "code",
   "execution_count": null,
   "id": "832922f7",
   "metadata": {},
   "outputs": [],
   "source": [
    "query = \"Find me the revenue and perc income\"\n",
    "print(_tokens(query))\n",
    "\n",
    "\n",
    "parts = [p.strip() for p in re.split(r',|\\band\\b', query.lower()) if p.strip()]\n",
    "print(parts)\n",
    "\n",
    "for part in parts:\n",
    "    part_tokens = set(t for t in _tokens(part) if t not in STOPWORDS)\n",
    "    print(\"part: \", part)\n",
    "    print(\"\\t part_tokens:\", part_tokens)\n",
    "\n",
    "print(10*\"-\")\n",
    "\n",
    "part_tokens = set(t for t in _tokens(parts[0]) if t not in STOPWORDS)\n",
    "# bm = best_match(part_tokens, cols_meta, allow_growth_flag=True)\n",
    "bm = best_match(part_tokens, cols_meta, allow_growth_flag=False)\n",
    "\n",
    "print(\"Best_match between my columns and:\")\n",
    "print(parts[0])\n",
    "print(\"\\t\", part_tokens)\n",
    "print(\"\\t\", bm)"
   ]
  },
  {
   "cell_type": "markdown",
   "id": "7679c500",
   "metadata": {},
   "source": [
    "Summarize in a function"
   ]
  },
  {
   "cell_type": "code",
   "execution_count": null,
   "id": "22fda0e6",
   "metadata": {},
   "outputs": [],
   "source": [
    "#| export \n",
    "def detect_columns(query: str, columns: List[str], growth_words: set[str], stopwords: set[str]) -> List[str]:\n",
    "    \"\"\"\n",
    "    1. tokenize the columns that I want to predict, remove or add metadata relevant to the prediction\n",
    "    2. Divide the query in subqueries or parts (I may want multiple facts)\n",
    "    3. tokenize each subquery/part\n",
    "    4. For each subquery, find the best match with my set of columns/financial_facts\n",
    "    \"\"\"\n",
    "    q = query.lower()\n",
    "    # split into parts by commas or the word 'and' (word-boundary)\n",
    "    parts = [p.strip() for p in re.split(r',|\\band\\b', q) if p.strip()]\n",
    "    \n",
    "    # preprocess columns into token sets and growth-flag\n",
    "    cols_meta = preprocess_columns(columns, stopwords)\n",
    "\n",
    "    results = []\n",
    "    for part in parts:\n",
    "        part_tokens = set(t for t in _tokens(part) if t not in stopwords)\n",
    "        if not part_tokens:\n",
    "            continue\n",
    "\n",
    "        # detect if user asked for growth/percentage in this part\n",
    "        wants_growth = any(k in part for k in growth_words)\n",
    "\n",
    "        # Prefer columns that match the growth intent; but if none produce positive score, allow the other group.\n",
    "        # try matching within the requested growth/non-growth group\n",
    "        primary_group = best_match(part_tokens, cols_meta, wants_growth)\n",
    "\n",
    "        # If the best_match dictionary is not empty and the score is greater than 0 \n",
    "        if primary_group[0] and (primary_group[1] > 0):\n",
    "            # Then I will save the name of that column with the best match\n",
    "            chosen = primary_group[0]['name']\n",
    "        else:\n",
    "            # fallback: try the opposite group\n",
    "            secondary_group = best_match(part_tokens, cols_meta, not wants_growth)\n",
    "            if secondary_group[0] and secondary_group[1] > 0:\n",
    "                chosen = secondary_group[0]['name']\n",
    "            \n",
    "            else:\n",
    "                # no confident match in either group -> try any column by best score (avoid choosing on 'total' only)\n",
    "                # Look in the parts withouth passing the STOPWORDS filter\n",
    "                best_overall = None\n",
    "                best_score = 0\n",
    "                for meta in cols_meta:\n",
    "                    score = len(part_tokens & meta['tokens'])\n",
    "                    if meta['name'].lower() in part:\n",
    "                        score += 1\n",
    "                    if score > best_score:\n",
    "                        best_overall = meta\n",
    "                        best_score = score\n",
    "                # accept only if there's at least one token matched\n",
    "                chosen = best_overall['name'] if best_overall and best_score > 0 else None\n",
    "\n",
    "        if chosen and chosen not in results:\n",
    "            results.append(chosen)\n",
    "\n",
    "    return results\n"
   ]
  },
  {
   "cell_type": "code",
   "execution_count": null,
   "id": "de1e8018",
   "metadata": {},
   "outputs": [],
   "source": [
    "# --- Examples from your message ---\n",
    "q1 = \"Give me the flow \"\n",
    "q2 = \"Give me the revenue and the Total Liabilities\"\n",
    "\n",
    "print(q1, \"\\n\\t->\", detect_columns(q1, COLUMNS, GROWTH_KEYWORDS, STOPWORDS))\n",
    "print(q2, \"\\n\\t->\", detect_columns(q2, COLUMNS, GROWTH_KEYWORDS, STOPWORDS))"
   ]
  },
  {
   "cell_type": "markdown",
   "id": "5f5323ef",
   "metadata": {},
   "source": [
    "Let's include this function as a method in the class"
   ]
  },
  {
   "cell_type": "code",
   "execution_count": null,
   "id": "5b9e5707",
   "metadata": {},
   "outputs": [],
   "source": [
    "#| export\n",
    "\n",
    "@patch\n",
    "def parse_financial_facts(self: financial_chatbot):\n",
    "    \n",
    "    assert isinstance(self._current_query, str)\n",
    "    query = self._current_query\n",
    "\n",
    "    columns = self._available_fin_facts\n",
    "    growth_words = self._growth_keywords\n",
    "    stopwords = self._stopwords\n",
    "    \n",
    "    found = detect_columns(query, columns, growth_words, stopwords)\n",
    "    if len(found)>0:\n",
    "        self._last_fin_facts = self._current_fin_facts\n",
    "        self._current_fin_facts = found\n",
    "\n",
    "    return found\n"
   ]
  },
  {
   "cell_type": "code",
   "execution_count": null,
   "id": "3fd6d152",
   "metadata": {},
   "outputs": [],
   "source": [
    "chatbot._current_query = \"Print the Net results, Total assets and percentage assets\"\n",
    "chatbot.parse_financial_facts()"
   ]
  },
  {
   "cell_type": "markdown",
   "id": "99d3e0f7",
   "metadata": {},
   "source": [
    "---"
   ]
  },
  {
   "cell_type": "markdown",
   "id": "70ce9aa0",
   "metadata": {},
   "source": [
    "### Loop To ask about missing info"
   ]
  },
  {
   "cell_type": "code",
   "execution_count": null,
   "id": "a7f65c3e",
   "metadata": {},
   "outputs": [],
   "source": [
    "#| export\n",
    "@patch\n",
    "def query_for_missing_info(self: financial_chatbot, info_type: str, prompt_message: str):\n",
    "    counter = 0\n",
    "    while True:\n",
    "        if info_type == 'company' and len(self._current_companies) == 0:\n",
    "            print(prompt_message)\n",
    "            print(f\"Examples {self._available_companies[:3]}\")\n",
    "            self.get_response()\n",
    "            self.parse_companies()\n",
    "\n",
    "        elif info_type == 'action' and len(self._current_action) == 0:\n",
    "\n",
    "            if len(self.action_for)==0:\n",
    "                self.initiate_actions_dictionary()\n",
    "\n",
    "            print(prompt_message)\n",
    "            self.get_response()\n",
    "            self.parse_action()\n",
    "\n",
    "        elif info_type == 'fact' and len(self._current_fin_facts) == 0:\n",
    "\n",
    "            print(prompt_message)\n",
    "            self.get_response()\n",
    "            self.parse_financial_facts()\n",
    "        else:\n",
    "            break\n",
    "\n",
    "        # Avoid too many attempts\n",
    "        counter += 1\n",
    "        if counter > 3:\n",
    "            # print(\"Too many attempts. Exiting.\")\n",
    "            raise SystemExit(\"Too many attempts. Exiting.\")\n",
    "            # break\n"
   ]
  },
  {
   "cell_type": "markdown",
   "id": "ed5e411a",
   "metadata": {},
   "source": [
    "#### Tests"
   ]
  },
  {
   "cell_type": "code",
   "execution_count": null,
   "id": "cf755131",
   "metadata": {},
   "outputs": [],
   "source": [
    "cb = financial_chatbot(file_path=file_path)\n",
    "cb.initiate_actions_dictionary()\n"
   ]
  },
  {
   "cell_type": "markdown",
   "id": "5b9f0182",
   "metadata": {},
   "source": [
    "Test that the loop stops the program:"
   ]
  },
  {
   "cell_type": "code",
   "execution_count": null,
   "id": "c1fc488f",
   "metadata": {},
   "outputs": [],
   "source": [
    "# The user inputs something not valid\n",
    "__builtins__.input = lambda prompt=\"\": \"Fake answer\"\n",
    "\n",
    "try:\n",
    "    print(\"Starting...\")\n",
    "    cb.query_for_missing_info(info_type=\"company\", prompt_message=\"Please specify at least one company in your query: \")\n",
    "    print(\"This won't run unless SystemExit is caught\")\n",
    "    \n",
    "except SystemExit as e:\n",
    "    print(f\"Caught SystemExit: {e}\")\n",
    "\n",
    "\n"
   ]
  },
  {
   "cell_type": "markdown",
   "id": "4140cb53",
   "metadata": {},
   "source": [
    "Test with correct user prompts"
   ]
  },
  {
   "cell_type": "code",
   "execution_count": null,
   "id": "6d01a97c",
   "metadata": {},
   "outputs": [],
   "source": [
    "__builtins__.input = lambda prompt=\"\": \"Apple and Microsoft\"\n",
    "cb.query_for_missing_info(info_type=\"company\", prompt_message=\"Please specify at least one company in your query: \")\n",
    "\n",
    "__builtins__.input = lambda prompt=\"\": \"print\"\n",
    "cb.query_for_missing_info(info_type=\"action\", prompt_message=\"Would you like me to print or plot the data? \")\n",
    "\n",
    "__builtins__.input = lambda prompt=\"\": \"Net income and Total assets growth\"\n",
    "cb.query_for_missing_info(info_type=\"fact\", prompt_message=\"What financial fact are you interested in?\")\n"
   ]
  },
  {
   "cell_type": "markdown",
   "id": "d801baf5",
   "metadata": {},
   "source": [
    "Method to print the saved information"
   ]
  },
  {
   "cell_type": "code",
   "execution_count": null,
   "id": "244fa170",
   "metadata": {},
   "outputs": [],
   "source": [
    "#| export\n",
    "@patch\n",
    "def _print_parsed_information(self: financial_chatbot):\n",
    "    print(f\"Selected companies: {self._current_companies}\")\n",
    "    print(f\"Requested actions: {self._current_action}\")\n",
    "    print(f\"Requested actions: {self._current_fin_facts}\")"
   ]
  },
  {
   "cell_type": "markdown",
   "id": "501a878d",
   "metadata": {},
   "source": [
    "Results"
   ]
  },
  {
   "cell_type": "code",
   "execution_count": null,
   "id": "799c7a94",
   "metadata": {},
   "outputs": [],
   "source": [
    "cb._print_parsed_information()"
   ]
  },
  {
   "cell_type": "markdown",
   "id": "3bfb9f80",
   "metadata": {},
   "source": [
    "# Methods to filter and print/plot the queried data"
   ]
  },
  {
   "cell_type": "markdown",
   "id": "5a7f4556",
   "metadata": {},
   "source": [
    "Method to filter the data with the information from the queries"
   ]
  },
  {
   "cell_type": "code",
   "execution_count": null,
   "id": "df0e0b3d",
   "metadata": {},
   "outputs": [],
   "source": [
    "#| export\n",
    "@patch\n",
    "def _get_queried_data(self: financial_chatbot, last_n_years: int = 3):\n",
    "    \"\"\" \n",
    "    Once I have parsed all the information in my query, I extract it from the data\n",
    "    To shorten the print, you can indicate how many years should be printed.\n",
    "    \"\"\"\n",
    "\n",
    "    facts = self._current_fin_facts\n",
    "    filter_company = self._data[\"Company\"].isin(self._current_companies)\n",
    "    cols = [\"Company\",\"Year\"] + (facts if isinstance(facts, list) else [facts])\n",
    "\n",
    "    filtered_Data = self._data[filter_company].sort_values(\n",
    "        ['Company', 'Year'],\n",
    "        ascending=[True, False]\n",
    "        ).groupby('Company').head(last_n_years)[cols]\n",
    "\n",
    "    return facts, filter_company, cols, filtered_Data\n"
   ]
  },
  {
   "cell_type": "markdown",
   "id": "00b16dc8",
   "metadata": {},
   "source": [
    "For plotting:"
   ]
  },
  {
   "cell_type": "code",
   "execution_count": null,
   "id": "7ed1aca3",
   "metadata": {},
   "outputs": [],
   "source": [
    "#| export\n",
    "\n",
    "@patch\n",
    "def print_queried_data(self: financial_chatbot, last_n_years: int = 2):\n",
    "    \"\"\" \n",
    "    It will print the filtered dataframe with the selected:\n",
    "    Companies, Financial facts and the last 3 years to make it shorter\n",
    "    \"\"\"\n",
    "    \n",
    "    _, _, _, filtered_Data = self._get_queried_data(last_n_years)\n",
    "\n",
    "    print(filtered_Data)\n"
   ]
  },
  {
   "cell_type": "code",
   "execution_count": null,
   "id": "46a43880",
   "metadata": {},
   "outputs": [],
   "source": [
    "cb.print_queried_data(1)"
   ]
  },
  {
   "cell_type": "markdown",
   "id": "dbef9293",
   "metadata": {},
   "source": [
    "For plotting:"
   ]
  },
  {
   "cell_type": "code",
   "execution_count": null,
   "id": "e857dc9e",
   "metadata": {},
   "outputs": [],
   "source": [
    "#| export\n",
    "import matplotlib.gridspec as gridspec\n",
    "import math"
   ]
  },
  {
   "cell_type": "code",
   "execution_count": null,
   "id": "3b4364ec",
   "metadata": {},
   "outputs": [],
   "source": [
    "#| export\n",
    "@patch\n",
    "def plot_queried_data(self: financial_chatbot, last_n_years:int = 3):\n",
    "    \n",
    "    facts, _, _, filtered_Data = self._get_queried_data(last_n_years)\n",
    "\n",
    "    m, n = math.ceil(len(facts)/2), 2 # Number of rows and columns\n",
    "\n",
    "    # Create a grid\n",
    "    fig = plt.figure(figsize=(4*n, 3*m))\n",
    "    gs = gridspec.GridSpec(m, n, figure=fig)\n",
    "\n",
    "    axs=[]\n",
    "    for i, fact in enumerate(facts):\n",
    "        ax = fig.add_subplot(gs[i])\n",
    "        sns.barplot(data=filtered_Data, x=\"Year\", y=fact, hue=\"Company\", ax=ax)\n",
    "        axs.append(ax)\n",
    "    plt.tight_layout()\n",
    "    plt.show()\n"
   ]
  },
  {
   "cell_type": "code",
   "execution_count": null,
   "id": "820f4371",
   "metadata": {},
   "outputs": [],
   "source": [
    "cb.plot_queried_data(3)"
   ]
  },
  {
   "cell_type": "markdown",
   "id": "85aeda56",
   "metadata": {},
   "source": [
    "I can overwrite the ``initiate_actions_dictionary`` method to use the new methods for print and plot that I have just defined (In a final setup I could just order everything in a class withouth patches)"
   ]
  },
  {
   "cell_type": "code",
   "execution_count": null,
   "id": "81edfa60",
   "metadata": {},
   "outputs": [],
   "source": [
    "#| export\n",
    "@patch\n",
    "def initiate_actions_dictionary(self: financial_chatbot):\n",
    "    # Map print and plot keywords to their respective functions\n",
    "    associate_action(self._keywords_print, self.print_queried_data, self.action_for)\n",
    "    associate_action(self._keywords_plot, self.plot_queried_data, self.action_for)\n",
    "\n"
   ]
  },
  {
   "cell_type": "code",
   "execution_count": null,
   "id": "d50d4bef",
   "metadata": {},
   "outputs": [],
   "source": [
    "cb.initiate_actions_dictionary()\n"
   ]
  },
  {
   "cell_type": "code",
   "execution_count": null,
   "id": "da609b40",
   "metadata": {},
   "outputs": [],
   "source": [
    "cb.action_for[\"print\"](1)"
   ]
  },
  {
   "cell_type": "code",
   "execution_count": null,
   "id": "97a69946",
   "metadata": {},
   "outputs": [],
   "source": [
    "cb.action_for[\"print\"](2)\n",
    "cb.action_for[\"plot\"](2)"
   ]
  },
  {
   "cell_type": "markdown",
   "id": "53d34f68",
   "metadata": {},
   "source": [
    "# Test logic"
   ]
  },
  {
   "cell_type": "code",
   "execution_count": null,
   "id": "b3bd8cf7",
   "metadata": {},
   "outputs": [],
   "source": [
    "test = True\n",
    "\n",
    "cb = financial_chatbot(file_path=file_path)\n",
    "\n",
    "# Initiate some variables\n",
    "cb.initiate_actions_dictionary()\n",
    "\n",
    "\n",
    "# First message \n",
    "cb.print_intro()\n",
    "\n",
    "# First user query\n",
    "if test: __builtins__.input = lambda prompt=\"\": \"Print and plot the Net income, Total assets and Cash Flow for Apple and Microsoft\"\n",
    "cb.get_response(message=\"How can I help you?\")\n",
    "\n",
    "# parse query for company\n",
    "cb.parse_companies()\n",
    "\n",
    "# parse query for action   \n",
    "cb.parse_action()\n",
    "\n",
    "# Parse Financial facts\n",
    "cb.parse_financial_facts()\n",
    "\n",
    "\n",
    "# Ask for missing information\n",
    "cb.query_for_missing_info(info_type=\"company\", prompt_message=\"Please specify at least one company in your query: \")\n",
    "cb.query_for_missing_info(info_type=\"action\", prompt_message=\"Would you like me to print or plot the data? \")\n",
    "cb.query_for_missing_info(info_type=\"fact\", prompt_message=\"What financial fact are you interested in?\")\n",
    "\n",
    "print(\"Summary:\")\n",
    "cb._print_parsed_information()\n",
    "\n",
    "# At this point if I don't have all the needed information, the chatbot would have stopped\n",
    "# Execute the action on the given data\n",
    "print()\n",
    "print(80*\"-\")\n",
    "for action_i in cb._current_action:\n",
    "    # print(action_i)\n",
    "    cb.action_for[action_i]()\n",
    "    print()\n",
    "    print(80*\"-\")\n",
    "\n",
    "\n"
   ]
  },
  {
   "cell_type": "markdown",
   "id": "3837d93f",
   "metadata": {},
   "source": [
    "Wrap everything in a method"
   ]
  },
  {
   "cell_type": "code",
   "execution_count": null,
   "id": "430fb1f0",
   "metadata": {},
   "outputs": [],
   "source": [
    "#| export\n",
    "@patch\n",
    "def _chatbot_iteration(self: financial_chatbot):\n",
    "    \"\"\"One loop of the chatbot\"\"\"\n",
    "\n",
    "    # First user query\n",
    "    self.get_response(message=\" > How can I help you? \\n > (Type 'exit' to end the chat) \")\n",
    "\n",
    "    # parse query for company\n",
    "    self.parse_companies()\n",
    "    # parse query for action   \n",
    "    self.parse_action()\n",
    "    # Parse Financial facts\n",
    "    self.parse_financial_facts()\n",
    "\n",
    "    # Ask for missing information\n",
    "    self.query_for_missing_info(info_type=\"company\", prompt_message=\"Please specify at least one company in your query: \")\n",
    "    self.query_for_missing_info(info_type=\"action\", prompt_message=\"Would you like me to print or plot the data? \")\n",
    "    self.query_for_missing_info(info_type=\"fact\", prompt_message=\"What financial fact are you interested in?\")\n",
    "\n",
    "    print(\"Summary:\")\n",
    "    self._print_parsed_information()\n",
    "\n",
    "    # At this point if I don't have all the needed information, the chatbot would have stopped\n",
    "    # Execute the action on the given data\n",
    "    print()\n",
    "    print(80*\"-\")\n",
    "    for action_i in self._current_action:\n",
    "        # print(action_i)\n",
    "        self.action_for[action_i]()\n",
    "        print()\n",
    "        print(80*\"-\")\n"
   ]
  },
  {
   "cell_type": "markdown",
   "id": "ae4ff276",
   "metadata": {},
   "source": [
    "Try how the main would look like:"
   ]
  },
  {
   "cell_type": "code",
   "execution_count": null,
   "id": "66a25f74",
   "metadata": {},
   "outputs": [],
   "source": [
    "# Correct user input:\n",
    "__builtins__.input = lambda prompt=\"\": \"Print the growth of Assets for Apple and Microsoft\"\n",
    "\n",
    "# Instantiate a chatbot\n",
    "chatbot = financial_chatbot(file_path=file_path)\n",
    "\n",
    "# Start the query loop\n",
    "# Note: this should be a while True: \n",
    "for i in range(2):\n",
    "    chatbot._chatbot_iteration()\n",
    "\n"
   ]
  },
  {
   "cell_type": "markdown",
   "id": "250a8160",
   "metadata": {},
   "source": [
    "# Export the main function"
   ]
  },
  {
   "cell_type": "markdown",
   "id": "c546731c",
   "metadata": {},
   "source": [
    "There is some additional code to check if the script is running from an interactive terminal or a tool like Github CI, so the run does not fail due to the program asking for user input."
   ]
  },
  {
   "cell_type": "code",
   "execution_count": null,
   "id": "cc4d38b7",
   "metadata": {},
   "outputs": [],
   "source": [
    "#| export\n",
    "\n",
    "def is_interactive():\n",
    "    return sys.stdin.isatty() and os.getenv(\"CI\") != \"true\"\n",
    "\n",
    "if __name__ == \"__main__\":\n",
    "    if is_interactive():\n",
    "\n",
    "        # Start chatbot\n",
    "        print(\"Running in an interactive environment\")\n",
    "\n",
    "        base_dir = get_base_dir()\n",
    "        path_to_data = base_dir.parent / \"resources\"\n",
    "        file_name = \"financial_data_chatbot.csv\"\n",
    "        file_path = path_to_data / file_name\n",
    "\n",
    "        chatbot = financial_chatbot(file_path=file_path)\n",
    "\n",
    "        while True:\n",
    "            chatbot._chatbot_iteration()\n",
    "            \n",
    "    else:\n",
    "        print(\"Skipping chatbot in non-interactive or CI environment.\")\n",
    "\n",
    "        "
   ]
  },
  {
   "cell_type": "code",
   "execution_count": null,
   "id": "b696a136",
   "metadata": {},
   "outputs": [],
   "source": [
    "#| hide\n",
    "import nbdev; nbdev.nbdev_export()"
   ]
  }
 ],
 "metadata": {
  "kernelspec": {
   "display_name": "python3",
   "language": "python",
   "name": "python3"
  }
 },
 "nbformat": 4,
 "nbformat_minor": 5
}
