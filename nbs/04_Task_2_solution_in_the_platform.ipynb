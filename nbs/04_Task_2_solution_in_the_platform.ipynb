{
 "cells": [
  {
   "cell_type": "markdown",
   "id": "65f15cea",
   "metadata": {},
   "source": [
    "# Example Answer\n",
    "\n",
    "**Great work!** Take a look at the example answer below to see how a professional would have attempted this task. Think about what you did well and how you can improve.\n",
    "\n",
    "---\n",
    "\n",
    "## 💬 Chatbot Example: Basic Financial Inquiry Bot\n",
    "\n",
    "### 🎯 Objective\n",
    "Develop a chatbot that responds to predefined queries about a company's financial performance, specifically focusing on **net income** and **revenue growth**.\n",
    "\n",
    "---\n",
    "\n",
    "### 1. 🧠 Rule-Based Logic Implementation\n",
    "\n",
    "#### 🐍 Python Code Snippet\n",
    "```python\n",
    "def financial_chatbot(query):\n",
    "    responses = {\n",
    "        \"net income\": \"The net income for the fiscal year 2021 was $5 billion, a 10% increase from 2020.\",\n",
    "        \"revenue growth\": \"The revenue grew by 8% from 2020 to 2021, reaching $22 billion.\"\n",
    "    }\n",
    "    return responses.get(query.lower(), \"I'm not sure how to answer that. Can you try a different question?\")\n",
    "\n",
    "\n",
    "**Explanation**: This simple Python function uses a dictionary to map user queries to predefined responses. It demonstrates the principle of rule-based logic and error handling by providing a default response when the query does not match.  \n"
   ]
  },
  {
   "cell_type": "markdown",
   "id": "33a07d93",
   "metadata": {},
   "source": [
    "### 2. Data structuring and retrieval\n",
    "\n",
    "**Data structuring**: Assume we have a CSV file named financial_data.csv that stores our company's financial information. For this example, the chatbot's responses are hardcoded, but in practice, you would retrieve this information from your structured data source.\n",
    "\n",
    "**Retrieval method**: While our example does not directly fetch data from a file, in a more advanced scenario, you could use pandas to read the CSV and query the DataFrame for specific information based on the user's input.\n",
    "\n"
   ]
  },
  {
   "cell_type": "markdown",
   "id": "7a95c138",
   "metadata": {},
   "source": [
    "\n",
    "### 3. Communicating financial insights\n",
    "\n",
    "+ Dialogue design: The chatbot's responses are crafted to be clear and informative, summarizing complex financial data into easy-to-understand insights. For a more interactive dialogue, you might expand the function to suggest related queries or follow-up for more detail.\n",
    "\n",
    " \n",
    "#### Example interaction with the chatbot\n",
    "\n",
    "**User query**: \"What was the net income?\"\n",
    "\n",
    "**Chatbot response**: \"The net income for the fiscal year 2021 was $5 billion, a 10% increase from 2020.\"\n",
    "\n",
    "**User query**: \"Tell me about revenue growth.\"\n",
    "\n",
    "**Chatbot response**: \"Revenue grew by 8% from 2020 to 2021, reaching $22 billion.\"\n",
    "\n",
    "#### Conclusion and variation:\n",
    "\n",
    "This example demonstrates the core principles of developing a financial chatbot using rule-based logic. Depending on your depth of understanding and technical skills, there are numerous ways to enhance and expand this prototype. You might integrate more complex NLP features for natural language understanding, connect to real-time financial databases for dynamic data retrieval, or implement machine learning for more nuanced interaction and response generation.\n",
    "\n",
    "**Key takeaway**: The principles of chatbot development (rule-based logic, data integration, and clear communication) apply regardless of the complexity of your chatbot. This example provides a foundation, but the possibilities are vast, encouraging you to explore and innovate beyond this basic framework.\n"
   ]
  },
  {
   "cell_type": "markdown",
   "id": "63514ff5",
   "metadata": {},
   "source": []
  }
 ],
 "metadata": {
  "kernelspec": {
   "display_name": "python3",
   "language": "python",
   "name": "python3"
  }
 },
 "nbformat": 4,
 "nbformat_minor": 5
}
